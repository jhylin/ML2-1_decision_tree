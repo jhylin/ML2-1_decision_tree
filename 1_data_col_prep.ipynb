{
  "cells": [
    {
      "cell_type": "raw",
      "metadata": {},
      "source": [
        "---\n",
        "title: Decision tree\n",
        "subtitle: Series 2.1.1 - data collection and preprocessing\n",
        "author: Jennifer HY Lin\n",
        "date: 2023-9-19\n",
        "draft: false\n",
        "categories:\n",
        "  - Machine learning projects\n",
        "  - Tree models\n",
        "  - Data preprocessing\n",
        "  - Pandas\n",
        "  - ChEMBL database\n",
        "  - Python\n",
        "format: html\n",
        "bibliography: references.bib\n",
        "---"
      ]
    },
    {
      "cell_type": "markdown",
      "metadata": {},
      "source": [
        "##### **Series overview**\n",
        "\n",
        "* Post 1 (this post) - data collection from ChEMBL database using web resource client in Python, with initial data preprocessing\n",
        "\n",
        "* [Post 2](https://jhylin.github.io/Data_in_life_blog/posts/16_ML2-1_Decision_tree/2_data_prep_tran.html) - more data preprocessing and transformation to reach the final dataset prior to model building\n",
        "\n",
        "* [Post 3](https://jhylin.github.io/Data_in_life_blog/posts/16_ML2-1_Decision_tree/3_model_build.html) - estimating experimental errors and building decision tree model using *scikit-learn*\n",
        "\n",
        "<br>\n",
        "\n",
        "##### **Introduction**\n",
        "\n",
        "I've now come to a stage to do some more machine learning (ML) work after reading a few peer-reviewed papers about ML and drug discovery. It seemed that traditional ML methods were still indispensible performance-wise, and when used in combination with deep learning neural networks, they tend to increase prediction accuracy more. I also haven't ventured into the practicality and usefulness of large language models in drug discovery yet, but I'm aware work in this area has been started. However, comments from experienced seniors did mention that they are still very much novel and therefore may not be as useful yet. Although by the speed of how things evolve in the so-called \"AI\" field, this possibly may change very soon. Also from what I can imagine, molecular representations in texts or strings are not quite the same as natural human language texts, since there are a lot of other chemistry-specific features to consider, e.g. chiralities, aromaticities and so on. Because of this, I'm sticking with learning to walk first by trying to cover conventional ML methods in a more thorough way, before trying to run in the deep learning zone.\n",
        "\n",
        "So this leads to this series of posts (3 in total) about decision tree. Previously, I've only lightly touched on a commonly used classifier algorithm, logistic regression, as the first series in the ML realm. Reflecting back, I think I could've done a more thorough job during the data preparation stage. So this would be attempted this time. The data preparation used here was carried out with strong reference to the materials and methods section in this paper [@vantilborg2022], which was one of the papers I've read. There are probably other useful methods out there, but this paper made sense to me, so I've adopted a few of their ways of doing things during data preprocessing.\n",
        "\n",
        "<br>\n",
        "\n",
        "##### **Data retrieval**\n",
        "\n",
        "This time I decided to try something new which was to use the ChEMBL web resource client to collect data (i.e. not by direct file downloads from ChEMBL website, although other useful way could be through SQL queries, which is also on my list to try later). I found this great online resource about fetching data this way from the TeachOpenCADD talktorial on [compound data acquisition](https://projects.volkamerlab.org/teachopencadd/talktorials/T001_query_chembl.html). The data retrieval workflow used below was mainly adapted from this talktorial with a few changes to suit the selected dataset and ML model.\n",
        "\n",
        "The web resource client was supported by the ChEMBL group and was based on a Django QuerySet interface. Their [GitHub repository](https://github.com/chembl/chembl_webresource_client) might explain a bit more about it, particularly the Jupyter notebook link provided in the repository would help a lot regarding how to write code to search for specific data.\n",
        "\n",
        "To do this, a few libraries needed to be loaded first."
      ]
    },
    {
      "cell_type": "code",
      "execution_count": 1,
      "metadata": {},
      "outputs": [],
      "source": [
        "# Import libraries\n",
        "# Fetch data through ChEMBL web resource client\n",
        "from chembl_webresource_client.new_client import new_client\n",
        "\n",
        "# Dataframe library\n",
        "import pandas as pd\n",
        "\n",
        "# Progress bar\n",
        "from tqdm import tqdm"
      ]
    },
    {
      "cell_type": "markdown",
      "metadata": {},
      "source": [
        "To see what types of data were provided by ChEMBL web resource client, run the following code and refer to ChEMBL documentations to find out what data were embedded inside different data categories. Sometimes, it might not be that straight forward and some digging would be required (I went back to this step below to find the \"[data_validity_comment](http://chembl.blogspot.com/2020/10/data-checks.html)\" when I was trying to do some compound sanitisations actually).\n",
        "\n",
        "::: callout-note\n",
        "The link provided above also talked about other useful techniques for data checks in the ChEMBL database - a very important step to do during data preprocessing, which was also something I was trying to cover and achieve as much as possible in this post.\n",
        ":::"
      ]
    },
    {
      "cell_type": "code",
      "execution_count": 2,
      "metadata": {},
      "outputs": [
        {
          "name": "stdout",
          "output_type": "stream",
          "text": [
            "['activity', 'activity_supplementary_data_by_activity', 'assay', 'assay_class', 'atc_class', 'binding_site', 'biotherapeutic', 'cell_line', 'chembl_id_lookup', 'compound_record', 'compound_structural_alert', 'description', 'document', 'document_similarity', 'drug', 'drug_indication', 'drug_warning', 'go_slim', 'image', 'mechanism', 'metabolism', 'molecule', 'molecule_form', 'official', 'organism', 'protein_classification', 'similarity', 'source', 'substructure', 'target', 'target_component', 'target_relation', 'tissue', 'xref_source']\n"
          ]
        }
      ],
      "source": [
        "available_resources = [resource for resource in dir(new_client) if not resource.startswith('_')]\n",
        "print(available_resources)"
      ]
    },
    {
      "cell_type": "markdown",
      "metadata": {},
      "source": [
        "Resource objects were created to enable API access as suggested by the talktorial."
      ]
    },
    {
      "cell_type": "code",
      "execution_count": 3,
      "metadata": {},
      "outputs": [],
      "source": [
        "# for targets (proteins)\n",
        "targets_api = new_client.target\n",
        "\n",
        "# for bioactivities\n",
        "bioact_api = new_client.activity\n",
        "\n",
        "# for assays\n",
        "assay_api = new_client.assay\n",
        "\n",
        "# for compounds\n",
        "cpd_api = new_client.molecule"
      ]
    },
    {
      "cell_type": "markdown",
      "metadata": {},
      "source": [
        "Checked object type for one of these API objects (e.g. bioactivity API object)."
      ]
    },
    {
      "cell_type": "code",
      "execution_count": 4,
      "metadata": {},
      "outputs": [
        {
          "data": {
            "text/plain": [
              "chembl_webresource_client.query_set.QuerySet"
            ]
          },
          "execution_count": 4,
          "metadata": {},
          "output_type": "execute_result"
        }
      ],
      "source": [
        "type(bioact_api)"
      ]
    },
    {
      "cell_type": "markdown",
      "metadata": {},
      "source": [
        "<br>\n",
        "\n",
        "##### **Fetching target data**\n",
        "\n",
        "A protein target e.g. acetylcholinesterase was randomly chosen by using [UniProt](https://www.uniprot.org/) to look up the protein UniProt ID."
      ]
    },
    {
      "cell_type": "code",
      "execution_count": 5,
      "metadata": {},
      "outputs": [],
      "source": [
        "# Specify Uniprot ID for acetylcholinesterase\n",
        "uniprot_id = \"P22303\"\n",
        "\n",
        "# Get info from ChEMBL about this protein target, \n",
        "# with selected features only\n",
        "targets = targets_api.get(target_components__accession = uniprot_id).only(\n",
        "    \"target_chembl_id\",\n",
        "    \"organism\", \n",
        "    \"pref_name\", \n",
        "    \"target_type\"\n",
        ")"
      ]
    },
    {
      "cell_type": "markdown",
      "metadata": {},
      "source": [
        "The query results were stored in a \"targets\" object, which was a QuerySet with lazy data evaluation only, meaning it would only react when there was a request for the data. Therefore, to see the results, the \"targets\" object was then read through Pandas DataFrame."
      ]
    },
    {
      "cell_type": "code",
      "execution_count": 6,
      "metadata": {},
      "outputs": [
        {
          "data": {
            "text/html": [
              "<div>\n",
              "<style scoped>\n",
              "    .dataframe tbody tr th:only-of-type {\n",
              "        vertical-align: middle;\n",
              "    }\n",
              "\n",
              "    .dataframe tbody tr th {\n",
              "        vertical-align: top;\n",
              "    }\n",
              "\n",
              "    .dataframe thead th {\n",
              "        text-align: right;\n",
              "    }\n",
              "</style>\n",
              "<table border=\"1\" class=\"dataframe\">\n",
              "  <thead>\n",
              "    <tr style=\"text-align: right;\">\n",
              "      <th></th>\n",
              "      <th>organism</th>\n",
              "      <th>pref_name</th>\n",
              "      <th>target_chembl_id</th>\n",
              "      <th>target_type</th>\n",
              "    </tr>\n",
              "  </thead>\n",
              "  <tbody>\n",
              "    <tr>\n",
              "      <th>0</th>\n",
              "      <td>Homo sapiens</td>\n",
              "      <td>Acetylcholinesterase</td>\n",
              "      <td>CHEMBL220</td>\n",
              "      <td>SINGLE PROTEIN</td>\n",
              "    </tr>\n",
              "    <tr>\n",
              "      <th>1</th>\n",
              "      <td>Homo sapiens</td>\n",
              "      <td>Acetylcholinesterase</td>\n",
              "      <td>CHEMBL220</td>\n",
              "      <td>SINGLE PROTEIN</td>\n",
              "    </tr>\n",
              "    <tr>\n",
              "      <th>2</th>\n",
              "      <td>Homo sapiens</td>\n",
              "      <td>Cholinesterases; ACHE &amp; BCHE</td>\n",
              "      <td>CHEMBL2095233</td>\n",
              "      <td>SELECTIVITY GROUP</td>\n",
              "    </tr>\n",
              "  </tbody>\n",
              "</table>\n",
              "</div>"
            ],
            "text/plain": [
              "       organism                     pref_name target_chembl_id  \\\n",
              "0  Homo sapiens          Acetylcholinesterase        CHEMBL220   \n",
              "1  Homo sapiens          Acetylcholinesterase        CHEMBL220   \n",
              "2  Homo sapiens  Cholinesterases; ACHE & BCHE    CHEMBL2095233   \n",
              "\n",
              "         target_type  \n",
              "0     SINGLE PROTEIN  \n",
              "1     SINGLE PROTEIN  \n",
              "2  SELECTIVITY GROUP  "
            ]
          },
          "execution_count": 6,
          "metadata": {},
          "output_type": "execute_result"
        }
      ],
      "source": [
        "# Read \"targets\" with Pandas\n",
        "targets = pd.DataFrame.from_records(targets)\n",
        "targets"
      ]
    },
    {
      "cell_type": "markdown",
      "metadata": {},
      "source": [
        "Selected the first protein target from this dataframe."
      ]
    },
    {
      "cell_type": "code",
      "execution_count": 7,
      "metadata": {},
      "outputs": [
        {
          "data": {
            "text/plain": [
              "organism                    Homo sapiens\n",
              "pref_name           Acetylcholinesterase\n",
              "target_chembl_id               CHEMBL220\n",
              "target_type               SINGLE PROTEIN\n",
              "Name: 0, dtype: object"
            ]
          },
          "execution_count": 7,
          "metadata": {},
          "output_type": "execute_result"
        }
      ],
      "source": [
        "# Save the first protein in the dataframe\n",
        "select_target = targets.iloc[0]\n",
        "select_target"
      ]
    },
    {
      "cell_type": "markdown",
      "metadata": {},
      "source": [
        "Then saved the selected ChEMBL ID for the first protein (to be used later)."
      ]
    },
    {
      "cell_type": "code",
      "execution_count": 8,
      "metadata": {},
      "outputs": [
        {
          "name": "stdout",
          "output_type": "stream",
          "text": [
            "CHEMBL220\n"
          ]
        }
      ],
      "source": [
        "chembl_id = select_target.target_chembl_id\n",
        "# Check it's saved\n",
        "print(chembl_id)"
      ]
    },
    {
      "cell_type": "markdown",
      "metadata": {},
      "source": [
        "<br>\n",
        "\n",
        "##### **Fetching bioactivity data**\n",
        "\n",
        "Obtaining bioactivity data for the selected target."
      ]
    },
    {
      "cell_type": "code",
      "execution_count": 9,
      "metadata": {},
      "outputs": [
        {
          "name": "stdout",
          "output_type": "stream",
          "text": [
            "706 <class 'chembl_webresource_client.query_set.QuerySet'>\n"
          ]
        }
      ],
      "source": [
        "bioact = bioact_api.filter(\n",
        "    # Use the previously saved target ChEMBL ID\n",
        "    target_chembl_id = chembl_id, \n",
        "    # Selecting for Ki\n",
        "    standard_type = \"Ki\",\n",
        "    # Requesting exact measurements\n",
        "    relation = \"=\",\n",
        "    # Binding data as \"B\"\n",
        "    assay_type = \"B\",\n",
        ").only(\n",
        "    \"activity_id\",\n",
        "    \"data_validity_comment\"\n",
        "    \"assay_chembl_id\",\n",
        "    \"assay_description\",\n",
        "    \"assay_type\",\n",
        "    \"molecule_chembl_id\",\n",
        "    \"standard_units\",\n",
        "    \"standard_type\",\n",
        "    \"relation\",\n",
        "    \"standard_value\",\n",
        "    \"target_chembl_id\",\n",
        "    \"target_organism\"\n",
        ")\n",
        "\n",
        "# Check the length and type of bioactivities object\n",
        "print(len(bioact), type(bioact))"
      ]
    },
    {
      "cell_type": "markdown",
      "metadata": {},
      "source": [
        "To have a quick look at the data being held inside each entry of the bioactivity dataset, e.g. for first entry."
      ]
    },
    {
      "cell_type": "code",
      "execution_count": 10,
      "metadata": {},
      "outputs": [
        {
          "name": "stdout",
          "output_type": "stream",
          "text": [
            "15 <class 'dict'>\n"
          ]
        },
        {
          "data": {
            "text/plain": [
              "{'activity_id': 111024,\n",
              " 'assay_chembl_id': 'CHEMBL641011',\n",
              " 'assay_description': 'Inhibition constant determined against Acetylcholinesterase (AChE) receptor.',\n",
              " 'assay_type': 'B',\n",
              " 'data_validity_comment': 'Potential transcription error',\n",
              " 'molecule_chembl_id': 'CHEMBL11805',\n",
              " 'relation': '=',\n",
              " 'standard_type': 'Ki',\n",
              " 'standard_units': 'nM',\n",
              " 'standard_value': '0.104',\n",
              " 'target_chembl_id': 'CHEMBL220',\n",
              " 'target_organism': 'Homo sapiens',\n",
              " 'type': 'Ki',\n",
              " 'units': 'nM',\n",
              " 'value': '0.104'}"
            ]
          },
          "execution_count": 10,
          "metadata": {},
          "output_type": "execute_result"
        }
      ],
      "source": [
        "print(len(bioact[0]), type(bioact[0]))\n",
        "bioact[0]"
      ]
    },
    {
      "cell_type": "markdown",
      "metadata": {},
      "source": [
        "The next step might take a few minutes - downloading the QuerySet as a Pandas DataFrame."
      ]
    },
    {
      "cell_type": "code",
      "execution_count": 11,
      "metadata": {},
      "outputs": [
        {
          "data": {
            "text/html": [
              "<div>\n",
              "<style scoped>\n",
              "    .dataframe tbody tr th:only-of-type {\n",
              "        vertical-align: middle;\n",
              "    }\n",
              "\n",
              "    .dataframe tbody tr th {\n",
              "        vertical-align: top;\n",
              "    }\n",
              "\n",
              "    .dataframe thead th {\n",
              "        text-align: right;\n",
              "    }\n",
              "</style>\n",
              "<table border=\"1\" class=\"dataframe\">\n",
              "  <thead>\n",
              "    <tr style=\"text-align: right;\">\n",
              "      <th></th>\n",
              "      <th>activity_id</th>\n",
              "      <th>assay_chembl_id</th>\n",
              "      <th>assay_description</th>\n",
              "      <th>assay_type</th>\n",
              "      <th>data_validity_comment</th>\n",
              "      <th>molecule_chembl_id</th>\n",
              "      <th>relation</th>\n",
              "      <th>standard_type</th>\n",
              "      <th>standard_units</th>\n",
              "      <th>standard_value</th>\n",
              "      <th>target_chembl_id</th>\n",
              "      <th>target_organism</th>\n",
              "      <th>type</th>\n",
              "      <th>units</th>\n",
              "      <th>value</th>\n",
              "    </tr>\n",
              "  </thead>\n",
              "  <tbody>\n",
              "    <tr>\n",
              "      <th>0</th>\n",
              "      <td>111024</td>\n",
              "      <td>CHEMBL641011</td>\n",
              "      <td>Inhibition constant determined against Acetylc...</td>\n",
              "      <td>B</td>\n",
              "      <td>Potential transcription error</td>\n",
              "      <td>CHEMBL11805</td>\n",
              "      <td>=</td>\n",
              "      <td>Ki</td>\n",
              "      <td>nM</td>\n",
              "      <td>0.104</td>\n",
              "      <td>CHEMBL220</td>\n",
              "      <td>Homo sapiens</td>\n",
              "      <td>Ki</td>\n",
              "      <td>nM</td>\n",
              "      <td>0.104</td>\n",
              "    </tr>\n",
              "    <tr>\n",
              "      <th>1</th>\n",
              "      <td>118575</td>\n",
              "      <td>CHEMBL641012</td>\n",
              "      <td>Inhibitory activity against human AChE</td>\n",
              "      <td>B</td>\n",
              "      <td>None</td>\n",
              "      <td>CHEMBL208599</td>\n",
              "      <td>=</td>\n",
              "      <td>Ki</td>\n",
              "      <td>nM</td>\n",
              "      <td>0.026</td>\n",
              "      <td>CHEMBL220</td>\n",
              "      <td>Homo sapiens</td>\n",
              "      <td>Ki</td>\n",
              "      <td>nM</td>\n",
              "      <td>0.026</td>\n",
              "    </tr>\n",
              "    <tr>\n",
              "      <th>2</th>\n",
              "      <td>125075</td>\n",
              "      <td>CHEMBL641011</td>\n",
              "      <td>Inhibition constant determined against Acetylc...</td>\n",
              "      <td>B</td>\n",
              "      <td>None</td>\n",
              "      <td>CHEMBL60745</td>\n",
              "      <td>=</td>\n",
              "      <td>Ki</td>\n",
              "      <td>nM</td>\n",
              "      <td>1.63</td>\n",
              "      <td>CHEMBL220</td>\n",
              "      <td>Homo sapiens</td>\n",
              "      <td>Ki</td>\n",
              "      <td>nM</td>\n",
              "      <td>1.63</td>\n",
              "    </tr>\n",
              "  </tbody>\n",
              "</table>\n",
              "</div>"
            ],
            "text/plain": [
              "   activity_id assay_chembl_id  \\\n",
              "0       111024    CHEMBL641011   \n",
              "1       118575    CHEMBL641012   \n",
              "2       125075    CHEMBL641011   \n",
              "\n",
              "                                   assay_description assay_type  \\\n",
              "0  Inhibition constant determined against Acetylc...          B   \n",
              "1             Inhibitory activity against human AChE          B   \n",
              "2  Inhibition constant determined against Acetylc...          B   \n",
              "\n",
              "           data_validity_comment molecule_chembl_id relation standard_type  \\\n",
              "0  Potential transcription error        CHEMBL11805        =            Ki   \n",
              "1                           None       CHEMBL208599        =            Ki   \n",
              "2                           None        CHEMBL60745        =            Ki   \n",
              "\n",
              "  standard_units standard_value target_chembl_id target_organism type units  \\\n",
              "0             nM          0.104        CHEMBL220    Homo sapiens   Ki    nM   \n",
              "1             nM          0.026        CHEMBL220    Homo sapiens   Ki    nM   \n",
              "2             nM           1.63        CHEMBL220    Homo sapiens   Ki    nM   \n",
              "\n",
              "   value  \n",
              "0  0.104  \n",
              "1  0.026  \n",
              "2   1.63  "
            ]
          },
          "execution_count": 11,
          "metadata": {},
          "output_type": "execute_result"
        }
      ],
      "source": [
        "bioact_df = pd.DataFrame.from_dict(bioact)\n",
        "\n",
        "bioact_df.head(3)"
      ]
    },
    {
      "cell_type": "markdown",
      "metadata": {},
      "source": [
        "Checked total rows and columns in the bioactivities dataframe."
      ]
    },
    {
      "cell_type": "code",
      "execution_count": 12,
      "metadata": {},
      "outputs": [
        {
          "data": {
            "text/plain": [
              "(706, 15)"
            ]
          },
          "execution_count": 12,
          "metadata": {},
          "output_type": "execute_result"
        }
      ],
      "source": [
        "bioact_df.shape"
      ]
    },
    {
      "cell_type": "markdown",
      "metadata": {},
      "source": [
        "<br>\n",
        "\n",
        "###### **Preprocess bioactivity data**\n",
        "\n",
        "When I reached the second half of data preprocessing, an alarm bell went off regarding using half maximal inhibitory concentration (IC50) values in ChEMBL. I remembered reading recent blog posts by Greg Landrum about using [IC50](https://greglandrum.github.io/rdkit-blog/posts/2023-06-12-overlapping-ic50-assays1.html) and inhibition constant ([Ki](https://greglandrum.github.io/rdkit-blog/posts/2023-06-17-overlapping-Ki-assays1.html)) values from ChEMBL. A useful open-access paper [@Kalliokoski2013a] from 2013 also looked into this issue about using mixed IC50 data in ChEMBL, and provided a thorough overview about how to deal with situations like this. There was also another paper [@Kramer2012] on mixed Ki data from the same author group in 2012 that touched on similar issues.\n",
        "\n",
        "To summarise both the paper about IC50 and blog posts mentioned above:\n",
        "\n",
        "-   it would be the best to check the details of assays used to test the compounds to ensure they were aligned and not extremely heterogeneous, since IC50 values were very assay-specific, and knowing that these values were extracted from different papers from different labs all over the world, mixing them without knowing was definitely not a good idea\n",
        "\n",
        "-   the slightly better news was that it was more likely okay to combine Ki values for the same protein target from ChEMBL as they were found to be adding less noise to the data (however ideally similar data caution should also apply)\n",
        "\n",
        "-   it was also possible to mix Ki values with IC50 values, but the data would need to be corrected via using a conversion factor of 2.0 to convert Ki values to IC50 values (note: I also wondered if this needed to be re-looked again since this paper was published 10 years ago...)\n",
        "\n",
        "Because of this, I decided to stick with Ki values only for now before adding more complexities as I wasn't entirely confident about mixing IC50 values with Ki values yet. Firstly, I checked for all types of units being used in bioact_df. There were numerous different units and formats, which meant they would need to be converted to nanomolar (nM) units first."
      ]
    },
    {
      "cell_type": "code",
      "execution_count": 13,
      "metadata": {},
      "outputs": [
        {
          "data": {
            "text/plain": [
              "array(['nM', 'M', 'uM', None, 'pM', \"10'-9M\", \"10'-3M\", \"10'-6M\",\n",
              "       \"10'-10M\", '/min/M', \"10'5/M/min\", \"10'2/M/min\", \"10'3/M/min\",\n",
              "       \"10'8/M/min\", \"10'7/M/min\", 'microM/L', 'umol/L', 'mM',\n",
              "       \"10'4/M/min\", \"10'6/M/min\", 'mM/min', '10^8M'], dtype=object)"
            ]
          },
          "execution_count": 13,
          "metadata": {},
          "output_type": "execute_result"
        }
      ],
      "source": [
        "bioact_df[\"units\"].unique()"
      ]
    },
    {
      "cell_type": "markdown",
      "metadata": {},
      "source": [
        "Checking again that I've fetched Ki values only."
      ]
    },
    {
      "cell_type": "code",
      "execution_count": 14,
      "metadata": {},
      "outputs": [
        {
          "data": {
            "text/plain": [
              "array(['Ki'], dtype=object)"
            ]
          },
          "execution_count": 14,
          "metadata": {},
          "output_type": "execute_result"
        }
      ],
      "source": [
        "bioact_df[\"standard_type\"].unique()"
      ]
    },
    {
      "cell_type": "markdown",
      "metadata": {},
      "source": [
        "It looked like there were duplicates of columns on units and values, so the \"units\" and \"value\" columns were removed and \"standard_units\" and \"standard_value\" columns were kept instead. Also, \"type\" column was dropped as there were already a \"standard_type\" column.\n",
        "\n",
        "::: callout-note\n",
        "Differences between \"type\" and \"standard_type\" columns were mentioned by this ChEMBL [blog post](https://chembl.blogspot.com/2013/02/latest-activities-on-activities-table.html).\n",
        ":::"
      ]
    },
    {
      "cell_type": "code",
      "execution_count": 15,
      "metadata": {},
      "outputs": [
        {
          "data": {
            "text/html": [
              "<div>\n",
              "<style scoped>\n",
              "    .dataframe tbody tr th:only-of-type {\n",
              "        vertical-align: middle;\n",
              "    }\n",
              "\n",
              "    .dataframe tbody tr th {\n",
              "        vertical-align: top;\n",
              "    }\n",
              "\n",
              "    .dataframe thead th {\n",
              "        text-align: right;\n",
              "    }\n",
              "</style>\n",
              "<table border=\"1\" class=\"dataframe\">\n",
              "  <thead>\n",
              "    <tr style=\"text-align: right;\">\n",
              "      <th></th>\n",
              "      <th>activity_id</th>\n",
              "      <th>assay_chembl_id</th>\n",
              "      <th>assay_description</th>\n",
              "      <th>assay_type</th>\n",
              "      <th>data_validity_comment</th>\n",
              "      <th>molecule_chembl_id</th>\n",
              "      <th>relation</th>\n",
              "      <th>standard_type</th>\n",
              "      <th>standard_units</th>\n",
              "      <th>standard_value</th>\n",
              "      <th>target_chembl_id</th>\n",
              "      <th>target_organism</th>\n",
              "    </tr>\n",
              "  </thead>\n",
              "  <tbody>\n",
              "    <tr>\n",
              "      <th>0</th>\n",
              "      <td>111024</td>\n",
              "      <td>CHEMBL641011</td>\n",
              "      <td>Inhibition constant determined against Acetylc...</td>\n",
              "      <td>B</td>\n",
              "      <td>Potential transcription error</td>\n",
              "      <td>CHEMBL11805</td>\n",
              "      <td>=</td>\n",
              "      <td>Ki</td>\n",
              "      <td>nM</td>\n",
              "      <td>0.104</td>\n",
              "      <td>CHEMBL220</td>\n",
              "      <td>Homo sapiens</td>\n",
              "    </tr>\n",
              "    <tr>\n",
              "      <th>1</th>\n",
              "      <td>118575</td>\n",
              "      <td>CHEMBL641012</td>\n",
              "      <td>Inhibitory activity against human AChE</td>\n",
              "      <td>B</td>\n",
              "      <td>None</td>\n",
              "      <td>CHEMBL208599</td>\n",
              "      <td>=</td>\n",
              "      <td>Ki</td>\n",
              "      <td>nM</td>\n",
              "      <td>0.026</td>\n",
              "      <td>CHEMBL220</td>\n",
              "      <td>Homo sapiens</td>\n",
              "    </tr>\n",
              "    <tr>\n",
              "      <th>2</th>\n",
              "      <td>125075</td>\n",
              "      <td>CHEMBL641011</td>\n",
              "      <td>Inhibition constant determined against Acetylc...</td>\n",
              "      <td>B</td>\n",
              "      <td>None</td>\n",
              "      <td>CHEMBL60745</td>\n",
              "      <td>=</td>\n",
              "      <td>Ki</td>\n",
              "      <td>nM</td>\n",
              "      <td>1.63</td>\n",
              "      <td>CHEMBL220</td>\n",
              "      <td>Homo sapiens</td>\n",
              "    </tr>\n",
              "  </tbody>\n",
              "</table>\n",
              "</div>"
            ],
            "text/plain": [
              "   activity_id assay_chembl_id  \\\n",
              "0       111024    CHEMBL641011   \n",
              "1       118575    CHEMBL641012   \n",
              "2       125075    CHEMBL641011   \n",
              "\n",
              "                                   assay_description assay_type  \\\n",
              "0  Inhibition constant determined against Acetylc...          B   \n",
              "1             Inhibitory activity against human AChE          B   \n",
              "2  Inhibition constant determined against Acetylc...          B   \n",
              "\n",
              "           data_validity_comment molecule_chembl_id relation standard_type  \\\n",
              "0  Potential transcription error        CHEMBL11805        =            Ki   \n",
              "1                           None       CHEMBL208599        =            Ki   \n",
              "2                           None        CHEMBL60745        =            Ki   \n",
              "\n",
              "  standard_units standard_value target_chembl_id target_organism  \n",
              "0             nM          0.104        CHEMBL220    Homo sapiens  \n",
              "1             nM          0.026        CHEMBL220    Homo sapiens  \n",
              "2             nM           1.63        CHEMBL220    Homo sapiens  "
            ]
          },
          "execution_count": 15,
          "metadata": {},
          "output_type": "execute_result"
        }
      ],
      "source": [
        "bioact_df.drop([\"units\", \"value\", \"type\"], axis = 1, inplace = True)\n",
        "# Re-check df\n",
        "bioact_df.head(3)"
      ]
    },
    {
      "cell_type": "code",
      "execution_count": 16,
      "metadata": {},
      "outputs": [
        {
          "data": {
            "text/plain": [
              "activity_id               int64\n",
              "assay_chembl_id          object\n",
              "assay_description        object\n",
              "assay_type               object\n",
              "data_validity_comment    object\n",
              "molecule_chembl_id       object\n",
              "relation                 object\n",
              "standard_type            object\n",
              "standard_units           object\n",
              "standard_value           object\n",
              "target_chembl_id         object\n",
              "target_organism          object\n",
              "dtype: object"
            ]
          },
          "execution_count": 16,
          "metadata": {},
          "output_type": "execute_result"
        }
      ],
      "source": [
        "bioact_df.dtypes"
      ]
    },
    {
      "cell_type": "markdown",
      "metadata": {},
      "source": [
        "The column of \"standard_value\" was converted from \"object\" to \"float64\" so we could use the Ki values for calculations later."
      ]
    },
    {
      "cell_type": "code",
      "execution_count": 17,
      "metadata": {},
      "outputs": [
        {
          "data": {
            "text/plain": [
              "activity_id                int64\n",
              "assay_chembl_id           object\n",
              "assay_description         object\n",
              "assay_type                object\n",
              "data_validity_comment     object\n",
              "molecule_chembl_id        object\n",
              "relation                  object\n",
              "standard_type             object\n",
              "standard_units            object\n",
              "standard_value           float64\n",
              "target_chembl_id          object\n",
              "target_organism           object\n",
              "dtype: object"
            ]
          },
          "execution_count": 17,
          "metadata": {},
          "output_type": "execute_result"
        }
      ],
      "source": [
        "bioact_df = bioact_df.astype({\"standard_value\": \"float64\"})\n",
        "# Check column data types again\n",
        "bioact_df.dtypes"
      ]
    },
    {
      "cell_type": "markdown",
      "metadata": {},
      "source": [
        "Then the next step was taking care of any missing entries by removing them in the first place. I excluded \"data_validity_comment\" column here as this was required to check if there were any unusual activity data e.g. excessively low or high Ki values. A lot of the compounds in this column probably had empty cells or \"None\", which ensured that there were no particular alarm bells to the extracted bioactivity data."
      ]
    },
    {
      "cell_type": "code",
      "execution_count": 18,
      "metadata": {},
      "outputs": [
        {
          "data": {
            "text/plain": [
              "(706, 12)"
            ]
          },
          "execution_count": 18,
          "metadata": {},
          "output_type": "execute_result"
        }
      ],
      "source": [
        "bioact_df.dropna(subset = [\"activity_id\", \"assay_chembl_id\", \"assay_description\", \"assay_type\", \"molecule_chembl_id\", \"relation\",  \"standard_type\", \"standard_units\", \"standard_value\", \"target_chembl_id\", \"target_organism\"], axis = 0, how = \"any\", inplace = True)\n",
        "# Check number of rows and columns again (in this case, there appeared to be no change for rows)\n",
        "bioact_df.shape"
      ]
    },
    {
      "cell_type": "markdown",
      "metadata": {},
      "source": [
        "Since all unique units inside the \"units\" and \"values\" columns were checked previously, I'd done the same for the \"standard_units\" column to see the ones recorded in it."
      ]
    },
    {
      "cell_type": "code",
      "execution_count": 19,
      "metadata": {},
      "outputs": [
        {
          "data": {
            "text/plain": [
              "array(['nM', '/min/M', \"10'5/M/min\", \"10'2/M/min\", \"10'3/M/min\",\n",
              "       \"10'8/M/min\", \"10'7/M/min\", \"10'4/M/min\", \"10'6/M/min\", 'mM/min',\n",
              "       '10^8M'], dtype=object)"
            ]
          },
          "execution_count": 19,
          "metadata": {},
          "output_type": "execute_result"
        }
      ],
      "source": [
        "bioact_df[\"standard_units\"].unique()"
      ]
    },
    {
      "cell_type": "markdown",
      "metadata": {},
      "source": [
        "There were a mixture of different units."
      ]
    },
    {
      "cell_type": "code",
      "execution_count": 20,
      "metadata": {},
      "outputs": [
        {
          "data": {
            "text/plain": [
              "61"
            ]
          },
          "execution_count": 20,
          "metadata": {},
          "output_type": "execute_result"
        }
      ],
      "source": [
        "# Check for number of non-nM units\n",
        "bioact_df[bioact_df[\"standard_units\"] != \"nM\"].shape[0]"
      ]
    },
    {
      "cell_type": "markdown",
      "metadata": {},
      "source": [
        "There appeared to be 61 non-nM values inside the fetched bioactivity data."
      ]
    },
    {
      "cell_type": "code",
      "execution_count": 21,
      "metadata": {},
      "outputs": [],
      "source": [
        "bioact_df = bioact_df[bioact_df[\"standard_units\"] == \"nM\"]"
      ]
    },
    {
      "cell_type": "markdown",
      "metadata": {},
      "source": [
        "I then narrowed the results to only \"nM\" and checked the dataframe again to see what units were left now."
      ]
    },
    {
      "cell_type": "code",
      "execution_count": 22,
      "metadata": {},
      "outputs": [
        {
          "data": {
            "text/plain": [
              "array(['nM'], dtype=object)"
            ]
          },
          "execution_count": 22,
          "metadata": {},
          "output_type": "execute_result"
        }
      ],
      "source": [
        "# Check there were only nM\n",
        "bioact_df[\"standard_units\"].unique()"
      ]
    },
    {
      "cell_type": "markdown",
      "metadata": {},
      "source": [
        "So the filtering worked and the number of rows and columns were reduced."
      ]
    },
    {
      "cell_type": "code",
      "execution_count": 23,
      "metadata": {},
      "outputs": [
        {
          "data": {
            "text/plain": [
              "(645, 12)"
            ]
          },
          "execution_count": 23,
          "metadata": {},
          "output_type": "execute_result"
        }
      ],
      "source": [
        "# Check df rows & columns\n",
        "bioact_df.shape"
      ]
    },
    {
      "cell_type": "markdown",
      "metadata": {},
      "source": [
        "Next part would be to remove all the duplicates in the dataframe, especially when there were duplicate tests for the same compound."
      ]
    },
    {
      "cell_type": "code",
      "execution_count": 24,
      "metadata": {},
      "outputs": [],
      "source": [
        "bioact_df.drop_duplicates(\"molecule_chembl_id\", keep = \"first\", inplace = True)"
      ]
    },
    {
      "cell_type": "markdown",
      "metadata": {},
      "source": [
        "Renamed the \"standard_value\" and \"standard_units\" columns to \"Ki\" and \"units\" respectively."
      ]
    },
    {
      "cell_type": "code",
      "execution_count": 25,
      "metadata": {},
      "outputs": [
        {
          "data": {
            "text/html": [
              "<div>\n",
              "<style scoped>\n",
              "    .dataframe tbody tr th:only-of-type {\n",
              "        vertical-align: middle;\n",
              "    }\n",
              "\n",
              "    .dataframe tbody tr th {\n",
              "        vertical-align: top;\n",
              "    }\n",
              "\n",
              "    .dataframe thead th {\n",
              "        text-align: right;\n",
              "    }\n",
              "</style>\n",
              "<table border=\"1\" class=\"dataframe\">\n",
              "  <thead>\n",
              "    <tr style=\"text-align: right;\">\n",
              "      <th></th>\n",
              "      <th>activity_id</th>\n",
              "      <th>assay_chembl_id</th>\n",
              "      <th>assay_description</th>\n",
              "      <th>assay_type</th>\n",
              "      <th>data_validity_comment</th>\n",
              "      <th>molecule_chembl_id</th>\n",
              "      <th>relation</th>\n",
              "      <th>standard_type</th>\n",
              "      <th>units</th>\n",
              "      <th>Ki</th>\n",
              "      <th>target_chembl_id</th>\n",
              "      <th>target_organism</th>\n",
              "    </tr>\n",
              "  </thead>\n",
              "  <tbody>\n",
              "    <tr>\n",
              "      <th>0</th>\n",
              "      <td>111024</td>\n",
              "      <td>CHEMBL641011</td>\n",
              "      <td>Inhibition constant determined against Acetylc...</td>\n",
              "      <td>B</td>\n",
              "      <td>Potential transcription error</td>\n",
              "      <td>CHEMBL11805</td>\n",
              "      <td>=</td>\n",
              "      <td>Ki</td>\n",
              "      <td>nM</td>\n",
              "      <td>0.104</td>\n",
              "      <td>CHEMBL220</td>\n",
              "      <td>Homo sapiens</td>\n",
              "    </tr>\n",
              "    <tr>\n",
              "      <th>1</th>\n",
              "      <td>118575</td>\n",
              "      <td>CHEMBL641012</td>\n",
              "      <td>Inhibitory activity against human AChE</td>\n",
              "      <td>B</td>\n",
              "      <td>None</td>\n",
              "      <td>CHEMBL208599</td>\n",
              "      <td>=</td>\n",
              "      <td>Ki</td>\n",
              "      <td>nM</td>\n",
              "      <td>0.026</td>\n",
              "      <td>CHEMBL220</td>\n",
              "      <td>Homo sapiens</td>\n",
              "    </tr>\n",
              "    <tr>\n",
              "      <th>2</th>\n",
              "      <td>125075</td>\n",
              "      <td>CHEMBL641011</td>\n",
              "      <td>Inhibition constant determined against Acetylc...</td>\n",
              "      <td>B</td>\n",
              "      <td>None</td>\n",
              "      <td>CHEMBL60745</td>\n",
              "      <td>=</td>\n",
              "      <td>Ki</td>\n",
              "      <td>nM</td>\n",
              "      <td>1.630</td>\n",
              "      <td>CHEMBL220</td>\n",
              "      <td>Homo sapiens</td>\n",
              "    </tr>\n",
              "  </tbody>\n",
              "</table>\n",
              "</div>"
            ],
            "text/plain": [
              "   activity_id assay_chembl_id  \\\n",
              "0       111024    CHEMBL641011   \n",
              "1       118575    CHEMBL641012   \n",
              "2       125075    CHEMBL641011   \n",
              "\n",
              "                                   assay_description assay_type  \\\n",
              "0  Inhibition constant determined against Acetylc...          B   \n",
              "1             Inhibitory activity against human AChE          B   \n",
              "2  Inhibition constant determined against Acetylc...          B   \n",
              "\n",
              "           data_validity_comment molecule_chembl_id relation standard_type  \\\n",
              "0  Potential transcription error        CHEMBL11805        =            Ki   \n",
              "1                           None       CHEMBL208599        =            Ki   \n",
              "2                           None        CHEMBL60745        =            Ki   \n",
              "\n",
              "  units     Ki target_chembl_id target_organism  \n",
              "0    nM  0.104        CHEMBL220    Homo sapiens  \n",
              "1    nM  0.026        CHEMBL220    Homo sapiens  \n",
              "2    nM  1.630        CHEMBL220    Homo sapiens  "
            ]
          },
          "execution_count": 25,
          "metadata": {},
          "output_type": "execute_result"
        }
      ],
      "source": [
        "bioact_df.rename(\n",
        "    columns = {\n",
        "        \"standard_value\": \"Ki\",\n",
        "        \"standard_units\": \"units\"\n",
        "    }, inplace = True\n",
        ")\n",
        "\n",
        "# Check df to ensure name change\n",
        "bioact_df.head(3)"
      ]
    },
    {
      "cell_type": "markdown",
      "metadata": {},
      "source": [
        "Lastly, the index of the dataframe was reset."
      ]
    },
    {
      "cell_type": "code",
      "execution_count": 26,
      "metadata": {},
      "outputs": [
        {
          "data": {
            "text/html": [
              "<div>\n",
              "<style scoped>\n",
              "    .dataframe tbody tr th:only-of-type {\n",
              "        vertical-align: middle;\n",
              "    }\n",
              "\n",
              "    .dataframe tbody tr th {\n",
              "        vertical-align: top;\n",
              "    }\n",
              "\n",
              "    .dataframe thead th {\n",
              "        text-align: right;\n",
              "    }\n",
              "</style>\n",
              "<table border=\"1\" class=\"dataframe\">\n",
              "  <thead>\n",
              "    <tr style=\"text-align: right;\">\n",
              "      <th></th>\n",
              "      <th>activity_id</th>\n",
              "      <th>assay_chembl_id</th>\n",
              "      <th>assay_description</th>\n",
              "      <th>assay_type</th>\n",
              "      <th>data_validity_comment</th>\n",
              "      <th>molecule_chembl_id</th>\n",
              "      <th>relation</th>\n",
              "      <th>standard_type</th>\n",
              "      <th>units</th>\n",
              "      <th>Ki</th>\n",
              "      <th>target_chembl_id</th>\n",
              "      <th>target_organism</th>\n",
              "    </tr>\n",
              "  </thead>\n",
              "  <tbody>\n",
              "    <tr>\n",
              "      <th>0</th>\n",
              "      <td>111024</td>\n",
              "      <td>CHEMBL641011</td>\n",
              "      <td>Inhibition constant determined against Acetylc...</td>\n",
              "      <td>B</td>\n",
              "      <td>Potential transcription error</td>\n",
              "      <td>CHEMBL11805</td>\n",
              "      <td>=</td>\n",
              "      <td>Ki</td>\n",
              "      <td>nM</td>\n",
              "      <td>0.104</td>\n",
              "      <td>CHEMBL220</td>\n",
              "      <td>Homo sapiens</td>\n",
              "    </tr>\n",
              "    <tr>\n",
              "      <th>1</th>\n",
              "      <td>118575</td>\n",
              "      <td>CHEMBL641012</td>\n",
              "      <td>Inhibitory activity against human AChE</td>\n",
              "      <td>B</td>\n",
              "      <td>None</td>\n",
              "      <td>CHEMBL208599</td>\n",
              "      <td>=</td>\n",
              "      <td>Ki</td>\n",
              "      <td>nM</td>\n",
              "      <td>0.026</td>\n",
              "      <td>CHEMBL220</td>\n",
              "      <td>Homo sapiens</td>\n",
              "    </tr>\n",
              "    <tr>\n",
              "      <th>2</th>\n",
              "      <td>125075</td>\n",
              "      <td>CHEMBL641011</td>\n",
              "      <td>Inhibition constant determined against Acetylc...</td>\n",
              "      <td>B</td>\n",
              "      <td>None</td>\n",
              "      <td>CHEMBL60745</td>\n",
              "      <td>=</td>\n",
              "      <td>Ki</td>\n",
              "      <td>nM</td>\n",
              "      <td>1.630</td>\n",
              "      <td>CHEMBL220</td>\n",
              "      <td>Homo sapiens</td>\n",
              "    </tr>\n",
              "  </tbody>\n",
              "</table>\n",
              "</div>"
            ],
            "text/plain": [
              "   activity_id assay_chembl_id  \\\n",
              "0       111024    CHEMBL641011   \n",
              "1       118575    CHEMBL641012   \n",
              "2       125075    CHEMBL641011   \n",
              "\n",
              "                                   assay_description assay_type  \\\n",
              "0  Inhibition constant determined against Acetylc...          B   \n",
              "1             Inhibitory activity against human AChE          B   \n",
              "2  Inhibition constant determined against Acetylc...          B   \n",
              "\n",
              "           data_validity_comment molecule_chembl_id relation standard_type  \\\n",
              "0  Potential transcription error        CHEMBL11805        =            Ki   \n",
              "1                           None       CHEMBL208599        =            Ki   \n",
              "2                           None        CHEMBL60745        =            Ki   \n",
              "\n",
              "  units     Ki target_chembl_id target_organism  \n",
              "0    nM  0.104        CHEMBL220    Homo sapiens  \n",
              "1    nM  0.026        CHEMBL220    Homo sapiens  \n",
              "2    nM  1.630        CHEMBL220    Homo sapiens  "
            ]
          },
          "execution_count": 26,
          "metadata": {},
          "output_type": "execute_result"
        }
      ],
      "source": [
        "bioact_df.reset_index(drop = True, inplace = True)\n",
        "bioact_df.head(3)"
      ]
    },
    {
      "cell_type": "markdown",
      "metadata": {},
      "source": [
        "One final check on the number of columns and rows after preprocessing the bioactivity dataframe."
      ]
    },
    {
      "cell_type": "code",
      "execution_count": 27,
      "metadata": {},
      "outputs": [
        {
          "data": {
            "text/plain": [
              "(540, 12)"
            ]
          },
          "execution_count": 27,
          "metadata": {},
          "output_type": "execute_result"
        }
      ],
      "source": [
        "bioact_df.shape"
      ]
    },
    {
      "cell_type": "markdown",
      "metadata": {},
      "source": [
        "There were a total of 12 columns with 540 rows of data left in the bioactivity dataframe.\n",
        "\n",
        "<br>\n",
        "\n",
        "##### **Fetching assay data**\n",
        "\n",
        "The assay data was added after I went through the rest of the data preprocessing and also after remembering to check on the confidence scores for assays used in the final data collected (to somewhat assess assay-to-target relationships). This [link from ChEMBL](https://chembl.gitbook.io/chembl-interface-documentation/frequently-asked-questions/chembl-data-questions#what-is-the-confidence-score) explained what the confidence score meant."
      ]
    },
    {
      "cell_type": "code",
      "execution_count": 28,
      "metadata": {},
      "outputs": [],
      "source": [
        "assays = assay_api.filter(\n",
        "    # Use the previously saved target ChEMBL ID\n",
        "    target_chembl_id = chembl_id, \n",
        "    # Binding assays only as before\n",
        "    assay_type = \"B\"\n",
        ").only(\n",
        "    \"assay_chembl_id\",\n",
        "    \"confidence_score\"\n",
        ")"
      ]
    },
    {
      "cell_type": "markdown",
      "metadata": {},
      "source": [
        "Placing the fetched assay data into a Pandas DataFrame."
      ]
    },
    {
      "cell_type": "code",
      "execution_count": 29,
      "metadata": {},
      "outputs": [
        {
          "name": "stdout",
          "output_type": "stream",
          "text": [
            "(2044, 2)\n"
          ]
        },
        {
          "data": {
            "text/html": [
              "<div>\n",
              "<style scoped>\n",
              "    .dataframe tbody tr th:only-of-type {\n",
              "        vertical-align: middle;\n",
              "    }\n",
              "\n",
              "    .dataframe tbody tr th {\n",
              "        vertical-align: top;\n",
              "    }\n",
              "\n",
              "    .dataframe thead th {\n",
              "        text-align: right;\n",
              "    }\n",
              "</style>\n",
              "<table border=\"1\" class=\"dataframe\">\n",
              "  <thead>\n",
              "    <tr style=\"text-align: right;\">\n",
              "      <th></th>\n",
              "      <th>assay_chembl_id</th>\n",
              "      <th>confidence_score</th>\n",
              "    </tr>\n",
              "  </thead>\n",
              "  <tbody>\n",
              "    <tr>\n",
              "      <th>0</th>\n",
              "      <td>CHEMBL634034</td>\n",
              "      <td>8</td>\n",
              "    </tr>\n",
              "    <tr>\n",
              "      <th>1</th>\n",
              "      <td>CHEMBL642512</td>\n",
              "      <td>8</td>\n",
              "    </tr>\n",
              "    <tr>\n",
              "      <th>2</th>\n",
              "      <td>CHEMBL642513</td>\n",
              "      <td>8</td>\n",
              "    </tr>\n",
              "  </tbody>\n",
              "</table>\n",
              "</div>"
            ],
            "text/plain": [
              "  assay_chembl_id  confidence_score\n",
              "0    CHEMBL634034                 8\n",
              "1    CHEMBL642512                 8\n",
              "2    CHEMBL642513                 8"
            ]
          },
          "execution_count": 29,
          "metadata": {},
          "output_type": "execute_result"
        }
      ],
      "source": [
        "assays_df = pd.DataFrame.from_dict(assays)\n",
        "\n",
        "print(assays_df.shape)\n",
        "assays_df.head(3)"
      ]
    },
    {
      "cell_type": "code",
      "execution_count": 30,
      "metadata": {},
      "outputs": [
        {
          "data": {
            "text/html": [
              "<div>\n",
              "<style scoped>\n",
              "    .dataframe tbody tr th:only-of-type {\n",
              "        vertical-align: middle;\n",
              "    }\n",
              "\n",
              "    .dataframe tbody tr th {\n",
              "        vertical-align: top;\n",
              "    }\n",
              "\n",
              "    .dataframe thead th {\n",
              "        text-align: right;\n",
              "    }\n",
              "</style>\n",
              "<table border=\"1\" class=\"dataframe\">\n",
              "  <thead>\n",
              "    <tr style=\"text-align: right;\">\n",
              "      <th></th>\n",
              "      <th>confidence_score</th>\n",
              "    </tr>\n",
              "  </thead>\n",
              "  <tbody>\n",
              "    <tr>\n",
              "      <th>count</th>\n",
              "      <td>2044.000000</td>\n",
              "    </tr>\n",
              "    <tr>\n",
              "      <th>mean</th>\n",
              "      <td>8.778865</td>\n",
              "    </tr>\n",
              "    <tr>\n",
              "      <th>std</th>\n",
              "      <td>0.415113</td>\n",
              "    </tr>\n",
              "    <tr>\n",
              "      <th>min</th>\n",
              "      <td>8.000000</td>\n",
              "    </tr>\n",
              "    <tr>\n",
              "      <th>25%</th>\n",
              "      <td>9.000000</td>\n",
              "    </tr>\n",
              "    <tr>\n",
              "      <th>50%</th>\n",
              "      <td>9.000000</td>\n",
              "    </tr>\n",
              "    <tr>\n",
              "      <th>75%</th>\n",
              "      <td>9.000000</td>\n",
              "    </tr>\n",
              "    <tr>\n",
              "      <th>max</th>\n",
              "      <td>9.000000</td>\n",
              "    </tr>\n",
              "  </tbody>\n",
              "</table>\n",
              "</div>"
            ],
            "text/plain": [
              "       confidence_score\n",
              "count       2044.000000\n",
              "mean           8.778865\n",
              "std            0.415113\n",
              "min            8.000000\n",
              "25%            9.000000\n",
              "50%            9.000000\n",
              "75%            9.000000\n",
              "max            9.000000"
            ]
          },
          "execution_count": 30,
          "metadata": {},
          "output_type": "execute_result"
        }
      ],
      "source": [
        "assays_df.describe()"
      ]
    },
    {
      "cell_type": "markdown",
      "metadata": {},
      "source": [
        "It looked like the lowest confidence score for this particular protein target in binding assays was at 8, with others sitting at 9 (the highest). There were 452 assays with confidence score of 8."
      ]
    },
    {
      "cell_type": "code",
      "execution_count": 31,
      "metadata": {},
      "outputs": [
        {
          "data": {
            "text/html": [
              "<div>\n",
              "<style scoped>\n",
              "    .dataframe tbody tr th:only-of-type {\n",
              "        vertical-align: middle;\n",
              "    }\n",
              "\n",
              "    .dataframe tbody tr th {\n",
              "        vertical-align: top;\n",
              "    }\n",
              "\n",
              "    .dataframe thead th {\n",
              "        text-align: right;\n",
              "    }\n",
              "</style>\n",
              "<table border=\"1\" class=\"dataframe\">\n",
              "  <thead>\n",
              "    <tr style=\"text-align: right;\">\n",
              "      <th></th>\n",
              "      <th>assay_chembl_id</th>\n",
              "      <th>confidence_score</th>\n",
              "    </tr>\n",
              "  </thead>\n",
              "  <tbody>\n",
              "    <tr>\n",
              "      <th>0</th>\n",
              "      <td>CHEMBL634034</td>\n",
              "      <td>8</td>\n",
              "    </tr>\n",
              "    <tr>\n",
              "      <th>1</th>\n",
              "      <td>CHEMBL642512</td>\n",
              "      <td>8</td>\n",
              "    </tr>\n",
              "    <tr>\n",
              "      <th>2</th>\n",
              "      <td>CHEMBL642513</td>\n",
              "      <td>8</td>\n",
              "    </tr>\n",
              "    <tr>\n",
              "      <th>3</th>\n",
              "      <td>CHEMBL642514</td>\n",
              "      <td>8</td>\n",
              "    </tr>\n",
              "    <tr>\n",
              "      <th>4</th>\n",
              "      <td>CHEMBL642515</td>\n",
              "      <td>8</td>\n",
              "    </tr>\n",
              "    <tr>\n",
              "      <th>...</th>\n",
              "      <td>...</td>\n",
              "      <td>...</td>\n",
              "    </tr>\n",
              "    <tr>\n",
              "      <th>1141</th>\n",
              "      <td>CHEMBL3887379</td>\n",
              "      <td>8</td>\n",
              "    </tr>\n",
              "    <tr>\n",
              "      <th>1142</th>\n",
              "      <td>CHEMBL3887855</td>\n",
              "      <td>8</td>\n",
              "    </tr>\n",
              "    <tr>\n",
              "      <th>1143</th>\n",
              "      <td>CHEMBL3887947</td>\n",
              "      <td>8</td>\n",
              "    </tr>\n",
              "    <tr>\n",
              "      <th>1144</th>\n",
              "      <td>CHEMBL3888161</td>\n",
              "      <td>8</td>\n",
              "    </tr>\n",
              "    <tr>\n",
              "      <th>1874</th>\n",
              "      <td>CHEMBL5058677</td>\n",
              "      <td>8</td>\n",
              "    </tr>\n",
              "  </tbody>\n",
              "</table>\n",
              "<p>452 rows × 2 columns</p>\n",
              "</div>"
            ],
            "text/plain": [
              "     assay_chembl_id  confidence_score\n",
              "0       CHEMBL634034                 8\n",
              "1       CHEMBL642512                 8\n",
              "2       CHEMBL642513                 8\n",
              "3       CHEMBL642514                 8\n",
              "4       CHEMBL642515                 8\n",
              "...              ...               ...\n",
              "1141   CHEMBL3887379                 8\n",
              "1142   CHEMBL3887855                 8\n",
              "1143   CHEMBL3887947                 8\n",
              "1144   CHEMBL3888161                 8\n",
              "1874   CHEMBL5058677                 8\n",
              "\n",
              "[452 rows x 2 columns]"
            ]
          },
          "execution_count": 31,
          "metadata": {},
          "output_type": "execute_result"
        }
      ],
      "source": [
        "# Some had score of 8 - find out which ones\n",
        "assays_df[assays_df[\"confidence_score\"] == 8]"
      ]
    },
    {
      "cell_type": "markdown",
      "metadata": {},
      "source": [
        "<br>\n",
        "\n",
        "##### **Combining bioactivity & assay data**\n",
        "\n",
        "The key was to combine the bioactivity and assay data along the \"assay_chembl_id\" column."
      ]
    },
    {
      "cell_type": "code",
      "execution_count": 32,
      "metadata": {},
      "outputs": [
        {
          "name": "stdout",
          "output_type": "stream",
          "text": [
            "(540, 6)\n"
          ]
        },
        {
          "data": {
            "text/html": [
              "<div>\n",
              "<style scoped>\n",
              "    .dataframe tbody tr th:only-of-type {\n",
              "        vertical-align: middle;\n",
              "    }\n",
              "\n",
              "    .dataframe tbody tr th {\n",
              "        vertical-align: top;\n",
              "    }\n",
              "\n",
              "    .dataframe thead th {\n",
              "        text-align: right;\n",
              "    }\n",
              "</style>\n",
              "<table border=\"1\" class=\"dataframe\">\n",
              "  <thead>\n",
              "    <tr style=\"text-align: right;\">\n",
              "      <th></th>\n",
              "      <th>assay_chembl_id</th>\n",
              "      <th>molecule_chembl_id</th>\n",
              "      <th>Ki</th>\n",
              "      <th>units</th>\n",
              "      <th>data_validity_comment</th>\n",
              "      <th>confidence_score</th>\n",
              "    </tr>\n",
              "  </thead>\n",
              "  <tbody>\n",
              "    <tr>\n",
              "      <th>0</th>\n",
              "      <td>CHEMBL641011</td>\n",
              "      <td>CHEMBL11805</td>\n",
              "      <td>0.104</td>\n",
              "      <td>nM</td>\n",
              "      <td>Potential transcription error</td>\n",
              "      <td>8</td>\n",
              "    </tr>\n",
              "    <tr>\n",
              "      <th>1</th>\n",
              "      <td>CHEMBL641011</td>\n",
              "      <td>CHEMBL60745</td>\n",
              "      <td>1.630</td>\n",
              "      <td>nM</td>\n",
              "      <td>None</td>\n",
              "      <td>8</td>\n",
              "    </tr>\n",
              "    <tr>\n",
              "      <th>2</th>\n",
              "      <td>CHEMBL641012</td>\n",
              "      <td>CHEMBL208599</td>\n",
              "      <td>0.026</td>\n",
              "      <td>nM</td>\n",
              "      <td>None</td>\n",
              "      <td>8</td>\n",
              "    </tr>\n",
              "  </tbody>\n",
              "</table>\n",
              "</div>"
            ],
            "text/plain": [
              "  assay_chembl_id molecule_chembl_id     Ki units  \\\n",
              "0    CHEMBL641011        CHEMBL11805  0.104    nM   \n",
              "1    CHEMBL641011        CHEMBL60745  1.630    nM   \n",
              "2    CHEMBL641012       CHEMBL208599  0.026    nM   \n",
              "\n",
              "           data_validity_comment  confidence_score  \n",
              "0  Potential transcription error                 8  \n",
              "1                           None                 8  \n",
              "2                           None                 8  "
            ]
          },
          "execution_count": 32,
          "metadata": {},
          "output_type": "execute_result"
        }
      ],
      "source": [
        "bioact_assay_df = pd.merge(\n",
        "    bioact_df[[\"assay_chembl_id\", \"molecule_chembl_id\", \"Ki\", \"units\", \"data_validity_comment\"]],\n",
        "    assays_df,\n",
        "    on = \"assay_chembl_id\",\n",
        ")\n",
        "print(bioact_assay_df.shape)\n",
        "bioact_assay_df.head(3)"
      ]
    },
    {
      "cell_type": "markdown",
      "metadata": {},
      "source": [
        "I actually came back to this step to relax the confidence score limit to include all the 8s as well as the 9s (otherwise previously I tried only using assays with score of 9), so that donepezil and galantamine could be included in the dataset as well (the purpose of this would be clearer in post 3 when building the model).\n",
        "\n",
        "<br>\n",
        "\n",
        "##### **Fetching compound data**\n",
        "\n",
        "While having identified the protein target, obtained the bioactivity data, and also the assay data, this next step was to fetch the compound data. This could be done by having the ChEMBL IDs available in the bioactivity dataset."
      ]
    },
    {
      "cell_type": "code",
      "execution_count": 33,
      "metadata": {},
      "outputs": [],
      "source": [
        "cpds = cpd_api.filter(\n",
        "    molecule_chembl_id__in = list(bioact_df[\"molecule_chembl_id\"])\n",
        ").only(\n",
        "    \"molecule_chembl_id\",\n",
        "    \"molecule_structures\",\n",
        "    \"max_phase\"\n",
        ")"
      ]
    },
    {
      "cell_type": "markdown",
      "metadata": {},
      "source": [
        "Here, the same step was applied where the compound QuerySet object was converted into a Pandas dataframe. However, the compound data extracted here might take longer than the bioactivity one. One way to monitor progress was through using tqdm package."
      ]
    },
    {
      "cell_type": "code",
      "execution_count": 34,
      "metadata": {},
      "outputs": [
        {
          "name": "stderr",
          "output_type": "stream",
          "text": [
            "100%|██████████| 540/540 [01:22<00:00,  6.56it/s]\n"
          ]
        }
      ],
      "source": [
        "compds = list(tqdm(cpds))"
      ]
    },
    {
      "cell_type": "markdown",
      "metadata": {},
      "source": [
        "Converting retrieved compound QuerySet into a Pandas DataFrame."
      ]
    },
    {
      "cell_type": "code",
      "execution_count": 35,
      "metadata": {},
      "outputs": [
        {
          "name": "stdout",
          "output_type": "stream",
          "text": [
            "(540, 3)\n"
          ]
        },
        {
          "data": {
            "text/html": [
              "<div>\n",
              "<style scoped>\n",
              "    .dataframe tbody tr th:only-of-type {\n",
              "        vertical-align: middle;\n",
              "    }\n",
              "\n",
              "    .dataframe tbody tr th {\n",
              "        vertical-align: top;\n",
              "    }\n",
              "\n",
              "    .dataframe thead th {\n",
              "        text-align: right;\n",
              "    }\n",
              "</style>\n",
              "<table border=\"1\" class=\"dataframe\">\n",
              "  <thead>\n",
              "    <tr style=\"text-align: right;\">\n",
              "      <th></th>\n",
              "      <th>max_phase</th>\n",
              "      <th>molecule_chembl_id</th>\n",
              "      <th>molecule_structures</th>\n",
              "    </tr>\n",
              "  </thead>\n",
              "  <tbody>\n",
              "    <tr>\n",
              "      <th>0</th>\n",
              "      <td>None</td>\n",
              "      <td>CHEMBL28</td>\n",
              "      <td>{'canonical_smiles': 'O=c1cc(-c2ccc(O)cc2)oc2c...</td>\n",
              "    </tr>\n",
              "    <tr>\n",
              "      <th>1</th>\n",
              "      <td>3.0</td>\n",
              "      <td>CHEMBL50</td>\n",
              "      <td>{'canonical_smiles': 'O=c1c(O)c(-c2ccc(O)c(O)c...</td>\n",
              "    </tr>\n",
              "    <tr>\n",
              "      <th>2</th>\n",
              "      <td>None</td>\n",
              "      <td>CHEMBL8320</td>\n",
              "      <td>{'canonical_smiles': 'O=C1C=CC(=O)C=C1', 'molf...</td>\n",
              "    </tr>\n",
              "  </tbody>\n",
              "</table>\n",
              "</div>"
            ],
            "text/plain": [
              "  max_phase molecule_chembl_id  \\\n",
              "0      None           CHEMBL28   \n",
              "1       3.0           CHEMBL50   \n",
              "2      None         CHEMBL8320   \n",
              "\n",
              "                                 molecule_structures  \n",
              "0  {'canonical_smiles': 'O=c1cc(-c2ccc(O)cc2)oc2c...  \n",
              "1  {'canonical_smiles': 'O=c1c(O)c(-c2ccc(O)c(O)c...  \n",
              "2  {'canonical_smiles': 'O=C1C=CC(=O)C=C1', 'molf...  "
            ]
          },
          "execution_count": 35,
          "metadata": {},
          "output_type": "execute_result"
        }
      ],
      "source": [
        "cpds_df = pd.DataFrame.from_records(compds)\n",
        "print(cpds_df.shape)\n",
        "cpds_df.head(3)"
      ]
    },
    {
      "cell_type": "markdown",
      "metadata": {},
      "source": [
        "<br>\n",
        "\n",
        "###### **Preprocess compound data**\n",
        "\n",
        "Removing any missing entries in the compound data (excluding the \"max_phase\" column as it was needed during the model training/testing part in post 3 - note: \"None\" entries meant they were preclinical molecules so not assigned with a max phase yet)."
      ]
    },
    {
      "cell_type": "code",
      "execution_count": 36,
      "metadata": {},
      "outputs": [
        {
          "data": {
            "text/plain": [
              "(540, 3)"
            ]
          },
          "execution_count": 36,
          "metadata": {},
          "output_type": "execute_result"
        }
      ],
      "source": [
        "cpds_df.dropna(subset = [\"molecule_chembl_id\", \"molecule_structures\"], axis = 0, how = \"any\", inplace = True)\n",
        "\n",
        "# Check columns & rows in df\n",
        "cpds_df.shape"
      ]
    },
    {
      "cell_type": "markdown",
      "metadata": {},
      "source": [
        "Removing any duplicates in the compound data."
      ]
    },
    {
      "cell_type": "code",
      "execution_count": 37,
      "metadata": {},
      "outputs": [
        {
          "data": {
            "text/plain": [
              "(540, 3)"
            ]
          },
          "execution_count": 37,
          "metadata": {},
          "output_type": "execute_result"
        }
      ],
      "source": [
        "cpds_df.drop_duplicates(\"molecule_chembl_id\", keep = \"first\", inplace = True)\n",
        "\n",
        "# Check columns & rows again\n",
        "cpds_df.shape"
      ]
    },
    {
      "cell_type": "markdown",
      "metadata": {},
      "source": [
        "Ideally, only the compounds with canonical SMILES would be kept. Checking for the types of molecular representations used in the \"molecule_structures\" column of the compound dataset."
      ]
    },
    {
      "cell_type": "code",
      "execution_count": 38,
      "metadata": {},
      "outputs": [
        {
          "data": {
            "text/plain": [
              "dict_keys(['canonical_smiles', 'molfile', 'standard_inchi', 'standard_inchi_key'])"
            ]
          },
          "execution_count": 38,
          "metadata": {},
          "output_type": "execute_result"
        }
      ],
      "source": [
        "# Randomly choosing the 2nd entry as example\n",
        "cpds_df.iloc[1].molecule_structures.keys()"
      ]
    },
    {
      "cell_type": "markdown",
      "metadata": {},
      "source": [
        "There were 4 types: \"canonical_smiles\", \"molfile\", \"standard_inchi\" and \"standard_inchi_key\"."
      ]
    },
    {
      "cell_type": "code",
      "execution_count": 39,
      "metadata": {},
      "outputs": [],
      "source": [
        "# Create an empty list to store the canonical smiles\n",
        "can_smiles = []\n",
        "\n",
        "# Create a for loop to loop over each row of data, \n",
        "# searching for only canonical_smiles to append to the created list\n",
        "for i, cpd in cpds_df.iterrows():\n",
        "    try:\n",
        "        can_smiles.append(cpd[\"molecule_structures\"][\"canonical_smiles\"])\n",
        "    except KeyError:\n",
        "        can_smiles.append(None)\n",
        "\n",
        "# Create a new df column with name as \"smiles\", \n",
        "# which will store all the canonical smiles collected from the list above\n",
        "cpds_df[\"smiles\"] = can_smiles"
      ]
    },
    {
      "cell_type": "markdown",
      "metadata": {},
      "source": [
        "Check the compound dataframe quickly to see if a new column for SMILES has been created."
      ]
    },
    {
      "cell_type": "code",
      "execution_count": 40,
      "metadata": {},
      "outputs": [
        {
          "data": {
            "text/html": [
              "<div>\n",
              "<style scoped>\n",
              "    .dataframe tbody tr th:only-of-type {\n",
              "        vertical-align: middle;\n",
              "    }\n",
              "\n",
              "    .dataframe tbody tr th {\n",
              "        vertical-align: top;\n",
              "    }\n",
              "\n",
              "    .dataframe thead th {\n",
              "        text-align: right;\n",
              "    }\n",
              "</style>\n",
              "<table border=\"1\" class=\"dataframe\">\n",
              "  <thead>\n",
              "    <tr style=\"text-align: right;\">\n",
              "      <th></th>\n",
              "      <th>max_phase</th>\n",
              "      <th>molecule_chembl_id</th>\n",
              "      <th>molecule_structures</th>\n",
              "      <th>smiles</th>\n",
              "    </tr>\n",
              "  </thead>\n",
              "  <tbody>\n",
              "    <tr>\n",
              "      <th>0</th>\n",
              "      <td>None</td>\n",
              "      <td>CHEMBL28</td>\n",
              "      <td>{'canonical_smiles': 'O=c1cc(-c2ccc(O)cc2)oc2c...</td>\n",
              "      <td>O=c1cc(-c2ccc(O)cc2)oc2cc(O)cc(O)c12</td>\n",
              "    </tr>\n",
              "    <tr>\n",
              "      <th>1</th>\n",
              "      <td>3.0</td>\n",
              "      <td>CHEMBL50</td>\n",
              "      <td>{'canonical_smiles': 'O=c1c(O)c(-c2ccc(O)c(O)c...</td>\n",
              "      <td>O=c1c(O)c(-c2ccc(O)c(O)c2)oc2cc(O)cc(O)c12</td>\n",
              "    </tr>\n",
              "    <tr>\n",
              "      <th>2</th>\n",
              "      <td>None</td>\n",
              "      <td>CHEMBL8320</td>\n",
              "      <td>{'canonical_smiles': 'O=C1C=CC(=O)C=C1', 'molf...</td>\n",
              "      <td>O=C1C=CC(=O)C=C1</td>\n",
              "    </tr>\n",
              "  </tbody>\n",
              "</table>\n",
              "</div>"
            ],
            "text/plain": [
              "  max_phase molecule_chembl_id  \\\n",
              "0      None           CHEMBL28   \n",
              "1       3.0           CHEMBL50   \n",
              "2      None         CHEMBL8320   \n",
              "\n",
              "                                 molecule_structures  \\\n",
              "0  {'canonical_smiles': 'O=c1cc(-c2ccc(O)cc2)oc2c...   \n",
              "1  {'canonical_smiles': 'O=c1c(O)c(-c2ccc(O)c(O)c...   \n",
              "2  {'canonical_smiles': 'O=C1C=CC(=O)C=C1', 'molf...   \n",
              "\n",
              "                                       smiles  \n",
              "0        O=c1cc(-c2ccc(O)cc2)oc2cc(O)cc(O)c12  \n",
              "1  O=c1c(O)c(-c2ccc(O)c(O)c2)oc2cc(O)cc(O)c12  \n",
              "2                            O=C1C=CC(=O)C=C1  "
            ]
          },
          "execution_count": 40,
          "metadata": {},
          "output_type": "execute_result"
        }
      ],
      "source": [
        "cpds_df.head(3)"
      ]
    },
    {
      "cell_type": "markdown",
      "metadata": {},
      "source": [
        "Once confirmed, the old \"molecule_structures\" column was then removed."
      ]
    },
    {
      "cell_type": "code",
      "execution_count": 41,
      "metadata": {},
      "outputs": [],
      "source": [
        "cpds_df.drop(\"molecule_structures\", axis = 1, inplace = True)"
      ]
    },
    {
      "cell_type": "markdown",
      "metadata": {},
      "source": [
        "Finally, adding another step to ensure all missing entries or entries without canonical SMILES strings were removed from the compound dataset."
      ]
    },
    {
      "cell_type": "code",
      "execution_count": 42,
      "metadata": {},
      "outputs": [
        {
          "name": "stdout",
          "output_type": "stream",
          "text": [
            "(540, 3)\n"
          ]
        }
      ],
      "source": [
        "cpds_df.dropna(subset = [\"smiles\"], axis = 0, how = \"any\", inplace = True)\n",
        "\n",
        "print(cpds_df.shape)"
      ]
    },
    {
      "cell_type": "markdown",
      "metadata": {},
      "source": [
        "Final look at the compound dataset, which should only include max phase, compound ChEMBL IDs and SMILES columns."
      ]
    },
    {
      "cell_type": "code",
      "execution_count": 43,
      "metadata": {},
      "outputs": [
        {
          "data": {
            "text/html": [
              "<div>\n",
              "<style scoped>\n",
              "    .dataframe tbody tr th:only-of-type {\n",
              "        vertical-align: middle;\n",
              "    }\n",
              "\n",
              "    .dataframe tbody tr th {\n",
              "        vertical-align: top;\n",
              "    }\n",
              "\n",
              "    .dataframe thead th {\n",
              "        text-align: right;\n",
              "    }\n",
              "</style>\n",
              "<table border=\"1\" class=\"dataframe\">\n",
              "  <thead>\n",
              "    <tr style=\"text-align: right;\">\n",
              "      <th></th>\n",
              "      <th>max_phase</th>\n",
              "      <th>molecule_chembl_id</th>\n",
              "      <th>smiles</th>\n",
              "    </tr>\n",
              "  </thead>\n",
              "  <tbody>\n",
              "    <tr>\n",
              "      <th>0</th>\n",
              "      <td>None</td>\n",
              "      <td>CHEMBL28</td>\n",
              "      <td>O=c1cc(-c2ccc(O)cc2)oc2cc(O)cc(O)c12</td>\n",
              "    </tr>\n",
              "    <tr>\n",
              "      <th>1</th>\n",
              "      <td>3.0</td>\n",
              "      <td>CHEMBL50</td>\n",
              "      <td>O=c1c(O)c(-c2ccc(O)c(O)c2)oc2cc(O)cc(O)c12</td>\n",
              "    </tr>\n",
              "    <tr>\n",
              "      <th>2</th>\n",
              "      <td>None</td>\n",
              "      <td>CHEMBL8320</td>\n",
              "      <td>O=C1C=CC(=O)C=C1</td>\n",
              "    </tr>\n",
              "  </tbody>\n",
              "</table>\n",
              "</div>"
            ],
            "text/plain": [
              "  max_phase molecule_chembl_id                                      smiles\n",
              "0      None           CHEMBL28        O=c1cc(-c2ccc(O)cc2)oc2cc(O)cc(O)c12\n",
              "1       3.0           CHEMBL50  O=c1c(O)c(-c2ccc(O)c(O)c2)oc2cc(O)cc(O)c12\n",
              "2      None         CHEMBL8320                            O=C1C=CC(=O)C=C1"
            ]
          },
          "execution_count": 43,
          "metadata": {},
          "output_type": "execute_result"
        }
      ],
      "source": [
        "cpds_df.head(3)"
      ]
    },
    {
      "cell_type": "markdown",
      "metadata": {},
      "source": [
        "<br>\n",
        "\n",
        "##### **Combining bioactivity and compound data**\n",
        "\n",
        "To combine both datasets, the key was to look for common column (similar to a SQL \"join\" query) between the two datasets.\n",
        "\n",
        "Listing all the column names for both datasets."
      ]
    },
    {
      "cell_type": "code",
      "execution_count": 44,
      "metadata": {},
      "outputs": [
        {
          "data": {
            "text/plain": [
              "Index(['assay_chembl_id', 'molecule_chembl_id', 'Ki', 'units',\n",
              "       'data_validity_comment', 'confidence_score'],\n",
              "      dtype='object')"
            ]
          },
          "execution_count": 44,
          "metadata": {},
          "output_type": "execute_result"
        }
      ],
      "source": [
        "bioact_assay_df.columns"
      ]
    },
    {
      "cell_type": "code",
      "execution_count": 45,
      "metadata": {},
      "outputs": [
        {
          "data": {
            "text/plain": [
              "Index(['max_phase', 'molecule_chembl_id', 'smiles'], dtype='object')"
            ]
          },
          "execution_count": 45,
          "metadata": {},
          "output_type": "execute_result"
        }
      ],
      "source": [
        "cpds_df.columns"
      ]
    },
    {
      "cell_type": "markdown",
      "metadata": {},
      "source": [
        "Clearly, the column that existed in both dataframes was the \"molecule_chembl_id\" column.\n",
        "\n",
        "The next step was to combine or merge both datasets."
      ]
    },
    {
      "cell_type": "code",
      "execution_count": 46,
      "metadata": {},
      "outputs": [
        {
          "data": {
            "text/html": [
              "<div>\n",
              "<style scoped>\n",
              "    .dataframe tbody tr th:only-of-type {\n",
              "        vertical-align: middle;\n",
              "    }\n",
              "\n",
              "    .dataframe tbody tr th {\n",
              "        vertical-align: top;\n",
              "    }\n",
              "\n",
              "    .dataframe thead th {\n",
              "        text-align: right;\n",
              "    }\n",
              "</style>\n",
              "<table border=\"1\" class=\"dataframe\">\n",
              "  <thead>\n",
              "    <tr style=\"text-align: right;\">\n",
              "      <th></th>\n",
              "      <th>molecule_chembl_id</th>\n",
              "      <th>Ki</th>\n",
              "      <th>units</th>\n",
              "      <th>data_validity_comment</th>\n",
              "      <th>max_phase</th>\n",
              "      <th>smiles</th>\n",
              "    </tr>\n",
              "  </thead>\n",
              "  <tbody>\n",
              "    <tr>\n",
              "      <th>0</th>\n",
              "      <td>CHEMBL11805</td>\n",
              "      <td>0.104</td>\n",
              "      <td>nM</td>\n",
              "      <td>Potential transcription error</td>\n",
              "      <td>None</td>\n",
              "      <td>COc1ccccc1CN(C)CCCCCC(=O)N(C)CCCCCCCCN(C)C(=O)...</td>\n",
              "    </tr>\n",
              "    <tr>\n",
              "      <th>1</th>\n",
              "      <td>CHEMBL60745</td>\n",
              "      <td>1.630</td>\n",
              "      <td>nM</td>\n",
              "      <td>None</td>\n",
              "      <td>None</td>\n",
              "      <td>CC[N+](C)(C)c1cccc(O)c1.[Br-]</td>\n",
              "    </tr>\n",
              "    <tr>\n",
              "      <th>2</th>\n",
              "      <td>CHEMBL208599</td>\n",
              "      <td>0.026</td>\n",
              "      <td>nM</td>\n",
              "      <td>None</td>\n",
              "      <td>None</td>\n",
              "      <td>CCC1=CC2Cc3nc4cc(Cl)ccc4c(N)c3[C@@H](C1)C2</td>\n",
              "    </tr>\n",
              "  </tbody>\n",
              "</table>\n",
              "</div>"
            ],
            "text/plain": [
              "  molecule_chembl_id     Ki units          data_validity_comment max_phase  \\\n",
              "0        CHEMBL11805  0.104    nM  Potential transcription error      None   \n",
              "1        CHEMBL60745  1.630    nM                           None      None   \n",
              "2       CHEMBL208599  0.026    nM                           None      None   \n",
              "\n",
              "                                              smiles  \n",
              "0  COc1ccccc1CN(C)CCCCCC(=O)N(C)CCCCCCCCN(C)C(=O)...  \n",
              "1                      CC[N+](C)(C)c1cccc(O)c1.[Br-]  \n",
              "2         CCC1=CC2Cc3nc4cc(Cl)ccc4c(N)c3[C@@H](C1)C2  "
            ]
          },
          "execution_count": 46,
          "metadata": {},
          "output_type": "execute_result"
        }
      ],
      "source": [
        "# Create a final dataframe that will contain both bioactivity and compound data\n",
        "dtree_df = pd.merge(\n",
        "    bioact_assay_df[[\"molecule_chembl_id\",\"Ki\", \"units\", \"data_validity_comment\"]],\n",
        "    cpds_df,\n",
        "    on = \"molecule_chembl_id\",\n",
        ")\n",
        "\n",
        "dtree_df.head(3)"
      ]
    },
    {
      "cell_type": "markdown",
      "metadata": {},
      "source": [
        "Shape of the final dataframe was checked."
      ]
    },
    {
      "cell_type": "code",
      "execution_count": 47,
      "metadata": {},
      "outputs": [
        {
          "name": "stdout",
          "output_type": "stream",
          "text": [
            "(540, 6)\n"
          ]
        }
      ],
      "source": [
        "print(dtree_df.shape)"
      ]
    },
    {
      "cell_type": "markdown",
      "metadata": {},
      "source": [
        "Saving a copy of the merged dataframe for now to avoid re-running the previous code repeatedly, and also to be ready for second-half of the data preprocessing work, which will be in post 2."
      ]
    },
    {
      "cell_type": "code",
      "execution_count": 48,
      "metadata": {},
      "outputs": [],
      "source": [
        "dtree_df.to_csv(\"ache_chembl.csv\")"
      ]
    }
  ],
  "metadata": {
    "kernelspec": {
      "display_name": "Python 3 (ipykernel)",
      "language": "python",
      "name": "python3"
    },
    "language_info": {
      "codemirror_mode": {
        "name": "ipython",
        "version": 3
      },
      "file_extension": ".py",
      "mimetype": "text/x-python",
      "name": "python",
      "nbconvert_exporter": "python",
      "pygments_lexer": "ipython3",
      "version": "3.9.15"
    }
  },
  "nbformat": 4,
  "nbformat_minor": 4
}
